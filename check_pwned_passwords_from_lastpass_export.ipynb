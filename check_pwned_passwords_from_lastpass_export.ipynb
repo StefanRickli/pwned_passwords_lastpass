{
 "cells": [
  {
   "cell_type": "markdown",
   "metadata": {},
   "source": [
    "## User variables"
   ]
  },
  {
   "cell_type": "code",
   "execution_count": null,
   "metadata": {},
   "outputs": [],
   "source": [
    "password_file_path = 'my_password_list.txt'"
   ]
  },
  {
   "cell_type": "code",
   "execution_count": null,
   "metadata": {},
   "outputs": [],
   "source": [
    "database_path = 'pwned-passwords-sha1-ordered-by-hash-v4.txt'"
   ]
  },
  {
   "cell_type": "markdown",
   "metadata": {},
   "source": [
    "### Helper functions"
   ]
  },
  {
   "cell_type": "code",
   "execution_count": null,
   "metadata": {},
   "outputs": [],
   "source": [
    "import pandas as pd\n",
    "import hashlib\n",
    "import math"
   ]
  },
  {
   "cell_type": "code",
   "execution_count": null,
   "metadata": {},
   "outputs": [],
   "source": [
    "# Performs a binary search the password file\n",
    "def db_find(db_path, key):\n",
    "    #print(key.encode('utf-8'))\n",
    "    fp = open(db_path, 'r')\n",
    "\n",
    "    begin = 0\n",
    "    fp.seek(0, 2) # go to end of file\n",
    "    end = fp.tell()\n",
    "    #print('EOF: {}'.format(end))\n",
    "    \n",
    "    entry = None\n",
    "    while (begin < end) and begin >= 0:\n",
    "        at = int((end + begin) / 2)\n",
    "        #print('begin: {}, end: {}, middle: {}'.format(begin, end, at))\n",
    "        fp.seek(at, 0)\n",
    "        goto_line_start(fp)\n",
    "        line_start = fp.tell()\n",
    "        line = fp.readline()\n",
    "        line_end = fp.tell()\n",
    "        #print(line.encode('utf-8'))\n",
    "        line_key = line.split(':')[0].rstrip('\\n')\n",
    "        if (key == line_key):\n",
    "            #print('found key')\n",
    "            return line.rstrip('\\n').split(':')\n",
    "        elif (key > line_key):\n",
    "            #print('search_right\\n')\n",
    "            begin = line_end\n",
    "        else:\n",
    "            #print('search_left\\n')\n",
    "            end = line_start - 1\n",
    "    \n",
    "    #print('not found')\n",
    "    return None"
   ]
  },
  {
   "cell_type": "code",
   "execution_count": null,
   "metadata": {},
   "outputs": [],
   "source": [
    "def goto_line_start(fp):\n",
    "    at = fp.tell()\n",
    "    while at != 0:\n",
    "        if fp.read(1) != '\\n':\n",
    "            at -= 1\n",
    "            fp.seek(at)\n",
    "        else:\n",
    "            return\n",
    "    return"
   ]
  },
  {
   "cell_type": "markdown",
   "metadata": {},
   "source": [
    "## Search the 'Pwned Passwords' database"
   ]
  },
  {
   "cell_type": "code",
   "execution_count": null,
   "metadata": {},
   "outputs": [],
   "source": [
    "pw_db = pd.read_csv(password_file_path, dtype = str).sort_values('password')\n",
    "\n",
    "for index, row in pw_db.iterrows():\n",
    "    if isinstance(row['password'], float) and math.isnan(row['password']):\n",
    "        #print('NaN')\n",
    "        continue\n",
    "    \n",
    "    encoder = hashlib.sha1()\n",
    "    encoder.update(row['password'].encode('utf-8'))\n",
    "    pw_hash = encoder.hexdigest().upper()\n",
    "    db_entry = db_find(database_path, pw_hash)\n",
    "    \n",
    "    if db_entry is not None:\n",
    "        print('Entry:\\t\\t{}'.format(row['name']))\n",
    "        print('URL:\\t\\t{}'.format(row['url']))\n",
    "        print('User:\\t\\t{}'.format(row['username']))\n",
    "        print('Password:\\t{}'.format(row['password']))\n",
    "        print('Hash:\\t\\t{}'.format(pw_hash))\n",
    "        print(\"==> {} entries in 'Pwned Passwords' database\\n\".format(db_entry[1]))\n",
    "\n",
    "print('\\n\\nDone.\\n')"
   ]
  },
  {
   "cell_type": "code",
   "execution_count": null,
   "metadata": {},
   "outputs": [],
   "source": []
  },
  {
   "cell_type": "code",
   "execution_count": null,
   "metadata": {},
   "outputs": [],
   "source": []
  },
  {
   "cell_type": "code",
   "execution_count": null,
   "metadata": {},
   "outputs": [],
   "source": []
  }
 ],
 "metadata": {
  "kernelspec": {
   "display_name": "Python [conda env:pwned]",
   "language": "python",
   "name": "conda-env-pwned-py"
  },
  "language_info": {
   "codemirror_mode": {
    "name": "ipython",
    "version": 3
   },
   "file_extension": ".py",
   "mimetype": "text/x-python",
   "name": "python",
   "nbconvert_exporter": "python",
   "pygments_lexer": "ipython3",
   "version": "3.7.2"
  }
 },
 "nbformat": 4,
 "nbformat_minor": 2
}
